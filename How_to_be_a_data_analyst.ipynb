{
 "cells": [
  {
   "cell_type": "markdown",
   "metadata": {},
   "source": [
    "# 要如何成為數據分析師(How to be a data analyst)?"
   ]
  },
  {
   "cell_type": "markdown",
   "metadata": {},
   "source": [
    "## 何謂數據分析(data analysis)?"
   ]
  },
  {
   "cell_type": "markdown",
   "metadata": {},
   "source": [
    "近幾年來，數據分析(data analysis)、大數據(big data)、資料科學(data science)、機器學習(machine learning)、人工智慧(Artificial Intelligence)等字眼蔚為風潮，除了頻繁出現在報章雜誌外，不論老少均能琅琅上口，似乎這些神奇字眼是所有問題的解答。\n",
    "\n",
    "然而，這些字眼各有不同含意，就以數據分析(data analysis)來說，基本上是指利用統計或是圖表方式檢視資料，從中找出模式並提供建議，未必會使用到機器學習，然而在進行機器學習前，通常會先進行數據分析以瞭解手上的資料。事實上，數據分析可說是所有數據相關工作的必要且基礎步驟。"
   ]
  },
  {
   "cell_type": "markdown",
   "metadata": {},
   "source": [
    "## 為什麼要成為數據分析師?"
   ]
  },
  {
   "cell_type": "markdown",
   "metadata": {},
   "source": [
    "會有成為數據分析師的想法，哈佛商業評論的某篇文章應該要負很大的責任XD(文章網址：https://hbr.org/2012/10/data-scientist-the-sexiest-job-of-the-21st-century)。\n",
    "文中提到，資料科學\\*是21世紀最性感的職業，且業界對於資料科學方面人才的需求與日俱增，不同領域的資料科學家會面對五花八門的問題，過程充滿挑戰性；此外，文中雖然沒有提到薪資待遇，不過考量到這個職業仍然在蓬勃發展，想必待遇也會水漲船高。(\\*資料科學包含但不限於數據分析)\n",
    "\n",
    "作者認為，未來的成長性和工作上的挑戰性，是成為數據分析師最好的動機和獎勵。"
   ]
  },
  {
   "cell_type": "markdown",
   "metadata": {},
   "source": [
    "## 怎麼做才能成為數據分析師?"
   ]
  },
  {
   "cell_type": "markdown",
   "metadata": {},
   "source": [
    "這就是本篇文章想要回答的問題，最好的起點莫過於從職缺介紹開始下手，從數據分析師相關職缺中歸納出結論，瞭解究竟需要什麼樣的資格或條件才能獲得公司青睞，錄取為一個數據分析師。"
   ]
  },
  {
   "cell_type": "markdown",
   "metadata": {},
   "source": [
    "## 前言"
   ]
  },
  {
   "cell_type": "markdown",
   "metadata": {},
   "source": [
    "本文章使用的資料來自104人力銀行，作者於8/10使用「數據分析師」和「data analyst」作為關鍵字進行搜尋，並從搜尋結果(依照關鍵字符合度進行排序)順抽50筆相關職缺進行彙整。您可能會有以下問題(2019/8/11更新)：\n",
    "\n",
    "#### 為什麼不使用API (Application Programming Interface)?\n",
    "要使用104的API的話，需要先購買徵才廣告，考量作者沒有相關需求，暫不採此方案。\n",
    "#### 為什麼不使用爬蟲 (Web Crawler)?\n",
    "檢視了幾則徵才廣告後，發現廣告並沒有固定格式，不少公司把職缺介紹和徵才條件合併一處，考慮技術方面的限制，暫不採此方案。\n",
    "#### 資料中只包含數據分析師的職缺嗎?\n",
    "原則上是，但由於是採抽樣方式挑選職缺，因此可能包含幾筆較為無關的資料。\n",
    "#### 資料中包含該職缺的所有徵才條件嗎?\n",
    "由於許多條件難以歸納，例如：獨立思考能力、積極樂觀的個性等，因此本文主要針對技術要求(hard skills)進行整理。若您對於職缺有興趣，不妨自行至104查詢相關資訊"
   ]
  },
  {
   "cell_type": "markdown",
   "metadata": {},
   "source": [
    "# 正文開始"
   ]
  },
  {
   "cell_type": "code",
   "execution_count": 1,
   "metadata": {},
   "outputs": [],
   "source": [
    "#引入需要用到的套件\n",
    "import numpy as np\n",
    "import pandas as pd\n",
    "import matplotlib.pyplot as plt\n",
    "%matplotlib inline"
   ]
  },
  {
   "cell_type": "code",
   "execution_count": 2,
   "metadata": {
    "scrolled": true
   },
   "outputs": [
    {
     "data": {
      "text/html": [
       "<div>\n",
       "<style scoped>\n",
       "    .dataframe tbody tr th:only-of-type {\n",
       "        vertical-align: middle;\n",
       "    }\n",
       "\n",
       "    .dataframe tbody tr th {\n",
       "        vertical-align: top;\n",
       "    }\n",
       "\n",
       "    .dataframe thead th {\n",
       "        text-align: right;\n",
       "    }\n",
       "</style>\n",
       "<table border=\"1\" class=\"dataframe\">\n",
       "  <thead>\n",
       "    <tr style=\"text-align: right;\">\n",
       "      <th></th>\n",
       "      <th>company</th>\n",
       "      <th>title</th>\n",
       "      <th>salary_floor</th>\n",
       "      <th>salary_ceiling</th>\n",
       "      <th>location</th>\n",
       "      <th>experience</th>\n",
       "      <th>education</th>\n",
       "      <th>major</th>\n",
       "      <th>language</th>\n",
       "      <th>requirements</th>\n",
       "      <th>extra</th>\n",
       "    </tr>\n",
       "  </thead>\n",
       "  <tbody>\n",
       "    <tr>\n",
       "      <th>0</th>\n",
       "      <td>橘熊科技股份有限公司</td>\n",
       "      <td>數據專案分析師</td>\n",
       "      <td>40000</td>\n",
       "      <td>NaN</td>\n",
       "      <td>Taipei</td>\n",
       "      <td>3+</td>\n",
       "      <td>bachelor</td>\n",
       "      <td>not specified</td>\n",
       "      <td>not specified</td>\n",
       "      <td>R|Tableau</td>\n",
       "      <td>SQL|Text Mining</td>\n",
       "    </tr>\n",
       "    <tr>\n",
       "      <th>1</th>\n",
       "      <td>中國信託綜合證券股份有限公司</td>\n",
       "      <td>大數據分析師</td>\n",
       "      <td>40000</td>\n",
       "      <td>NaN</td>\n",
       "      <td>Taipei</td>\n",
       "      <td>2+</td>\n",
       "      <td>bachelor</td>\n",
       "      <td>not specified</td>\n",
       "      <td>not specified</td>\n",
       "      <td>R|Python|ML|Visualization</td>\n",
       "      <td>Hadoop|Tensorflow|Pytorch</td>\n",
       "    </tr>\n",
       "    <tr>\n",
       "      <th>2</th>\n",
       "      <td>舉手電商有限公司</td>\n",
       "      <td>數據分析師</td>\n",
       "      <td>40000</td>\n",
       "      <td>70000.0</td>\n",
       "      <td>Taipei</td>\n",
       "      <td>1+</td>\n",
       "      <td>bachelor</td>\n",
       "      <td>not specified</td>\n",
       "      <td>English</td>\n",
       "      <td>SQL|Visualization</td>\n",
       "      <td>GA|FA|ETL|PHP</td>\n",
       "    </tr>\n",
       "    <tr>\n",
       "      <th>3</th>\n",
       "      <td>Blue Coast Global Technology, INC.</td>\n",
       "      <td>數據分析師助理</td>\n",
       "      <td>40000</td>\n",
       "      <td>NaN</td>\n",
       "      <td>Philippines</td>\n",
       "      <td>2+</td>\n",
       "      <td>bachelor|master</td>\n",
       "      <td>business|statistics</td>\n",
       "      <td>English</td>\n",
       "      <td>Excel|PPT|Word</td>\n",
       "      <td>NaN</td>\n",
       "    </tr>\n",
       "    <tr>\n",
       "      <th>4</th>\n",
       "      <td>國泰金融控股股份有限公司</td>\n",
       "      <td>數據分析師</td>\n",
       "      <td>30000</td>\n",
       "      <td>90000.0</td>\n",
       "      <td>Taipei</td>\n",
       "      <td>not specified</td>\n",
       "      <td>bachelor</td>\n",
       "      <td>engineering|math</td>\n",
       "      <td>English</td>\n",
       "      <td>Python|R|SQL|Visulization</td>\n",
       "      <td>Java|Scala|JS|Tableau|D3|Matplotlib|Bokah|Spar...</td>\n",
       "    </tr>\n",
       "  </tbody>\n",
       "</table>\n",
       "</div>"
      ],
      "text/plain": [
       "                              company    title  salary_floor  salary_ceiling  \\\n",
       "0                          橘熊科技股份有限公司  數據專案分析師         40000             NaN   \n",
       "1                      中國信託綜合證券股份有限公司   大數據分析師         40000             NaN   \n",
       "2                            舉手電商有限公司    數據分析師         40000         70000.0   \n",
       "3  Blue Coast Global Technology, INC.  數據分析師助理         40000             NaN   \n",
       "4                        國泰金融控股股份有限公司    數據分析師         30000         90000.0   \n",
       "\n",
       "      location     experience        education                major  \\\n",
       "0       Taipei             3+         bachelor        not specified   \n",
       "1       Taipei             2+         bachelor        not specified   \n",
       "2       Taipei             1+         bachelor        not specified   \n",
       "3  Philippines             2+  bachelor|master  business|statistics   \n",
       "4       Taipei  not specified         bachelor     engineering|math   \n",
       "\n",
       "        language               requirements  \\\n",
       "0  not specified                  R|Tableau   \n",
       "1  not specified  R|Python|ML|Visualization   \n",
       "2        English          SQL|Visualization   \n",
       "3        English             Excel|PPT|Word   \n",
       "4        English  Python|R|SQL|Visulization   \n",
       "\n",
       "                                               extra  \n",
       "0                                    SQL|Text Mining  \n",
       "1                          Hadoop|Tensorflow|Pytorch  \n",
       "2                                      GA|FA|ETL|PHP  \n",
       "3                                                NaN  \n",
       "4  Java|Scala|JS|Tableau|D3|Matplotlib|Bokah|Spar...  "
      ]
     },
     "execution_count": 2,
     "metadata": {},
     "output_type": "execute_result"
    }
   ],
   "source": [
    "#讀取資料，並且列印前5行\n",
    "job = pd.read_excel(\"job_search.xlsx\");job.head()"
   ]
  },
  {
   "cell_type": "markdown",
   "metadata": {},
   "source": [
    "首先介紹各欄位的意義：\n",
    "1. company：提供職缺的公司名稱\n",
    "2. title：職缺名稱\n",
    "3. salary_floor：底薪\n",
    "4. salary_ceiling：薪資天花板\n",
    "5. location：工作地點\n",
    "6. experience：工作經驗要求\n",
    "7. education：學歷要求\n",
    "8. major：科系要求\n",
    "9. language：語言要求\n",
    "10. requirements：必要工作技能\n",
    "11. extra：額外工作技能"
   ]
  },
  {
   "cell_type": "markdown",
   "metadata": {},
   "source": [
    "檢視各欄位的資料型態，並確認欄位有無空白(null)。發現salary_ceiling、requirements、extra有空白"
   ]
  },
  {
   "cell_type": "code",
   "execution_count": 3,
   "metadata": {
    "scrolled": true
   },
   "outputs": [
    {
     "name": "stdout",
     "output_type": "stream",
     "text": [
      "<class 'pandas.core.frame.DataFrame'>\n",
      "RangeIndex: 50 entries, 0 to 49\n",
      "Data columns (total 11 columns):\n",
      "company           50 non-null object\n",
      "title             50 non-null object\n",
      "salary_floor      50 non-null int64\n",
      "salary_ceiling    23 non-null float64\n",
      "location          50 non-null object\n",
      "experience        50 non-null object\n",
      "education         50 non-null object\n",
      "major             50 non-null object\n",
      "language          50 non-null object\n",
      "requirements      49 non-null object\n",
      "extra             25 non-null object\n",
      "dtypes: float64(1), int64(1), object(9)\n",
      "memory usage: 4.4+ KB\n"
     ]
    }
   ],
   "source": [
    "job.info()"
   ]
  },
  {
   "cell_type": "markdown",
   "metadata": {},
   "source": [
    "我們來看看有空白的欄位發生什麼事情：<br>\n",
    "salary_ceiling(薪資天花板)指的是該職缺的最高薪資，然而多數的職缺並未揭露最高薪資；為了讓分析能順利進行，我們用「薪資天花板的平均」取代空白。此外，根據<就業服務法>，經常性薪資達到4萬元的話可用「薪資面議」取代，這會影響到salary_floor(底薪)的正確性，我們很有可能低估底薪。"
   ]
  },
  {
   "cell_type": "code",
   "execution_count": 4,
   "metadata": {
    "scrolled": false
   },
   "outputs": [
    {
     "name": "stdout",
     "output_type": "stream",
     "text": [
      "<class 'pandas.core.frame.DataFrame'>\n",
      "RangeIndex: 50 entries, 0 to 49\n",
      "Data columns (total 11 columns):\n",
      "company           50 non-null object\n",
      "title             50 non-null object\n",
      "salary_floor      50 non-null int64\n",
      "salary_ceiling    50 non-null float64\n",
      "location          50 non-null object\n",
      "experience        50 non-null object\n",
      "education         50 non-null object\n",
      "major             50 non-null object\n",
      "language          50 non-null object\n",
      "requirements      49 non-null object\n",
      "extra             25 non-null object\n",
      "dtypes: float64(1), int64(1), object(9)\n",
      "memory usage: 4.4+ KB\n"
     ]
    }
   ],
   "source": [
    "#計算薪資天花板的平均，並且填入空白欄位\n",
    "mean_salary_ceiling = job['salary_ceiling'].mean()\n",
    "job['salary_ceiling'].fillna(mean_salary_ceiling, inplace=True)\n",
    "job.info()"
   ]
  },
  {
   "cell_type": "markdown",
   "metadata": {},
   "source": [
    "調整後，salary_ceiling就沒有空白值(null)了"
   ]
  },
  {
   "cell_type": "code",
   "execution_count": 5,
   "metadata": {},
   "outputs": [
    {
     "data": {
      "text/html": [
       "<div>\n",
       "<style scoped>\n",
       "    .dataframe tbody tr th:only-of-type {\n",
       "        vertical-align: middle;\n",
       "    }\n",
       "\n",
       "    .dataframe tbody tr th {\n",
       "        vertical-align: top;\n",
       "    }\n",
       "\n",
       "    .dataframe thead th {\n",
       "        text-align: right;\n",
       "    }\n",
       "</style>\n",
       "<table border=\"1\" class=\"dataframe\">\n",
       "  <thead>\n",
       "    <tr style=\"text-align: right;\">\n",
       "      <th></th>\n",
       "      <th>company</th>\n",
       "      <th>title</th>\n",
       "      <th>salary_floor</th>\n",
       "      <th>salary_ceiling</th>\n",
       "      <th>location</th>\n",
       "      <th>experience</th>\n",
       "      <th>education</th>\n",
       "      <th>major</th>\n",
       "      <th>language</th>\n",
       "      <th>requirements</th>\n",
       "      <th>extra</th>\n",
       "    </tr>\n",
       "  </thead>\n",
       "  <tbody>\n",
       "  </tbody>\n",
       "</table>\n",
       "</div>"
      ],
      "text/plain": [
       "Empty DataFrame\n",
       "Columns: [company, title, salary_floor, salary_ceiling, location, experience, education, major, language, requirements, extra]\n",
       "Index: []"
      ]
     },
     "execution_count": 5,
     "metadata": {},
     "output_type": "execute_result"
    }
   ],
   "source": [
    "#檢查一下調整後的薪資天花板有沒有低於底薪的情況。看來是沒有\n",
    "job[job['salary_ceiling'] < job['salary_floor']]"
   ]
  },
  {
   "cell_type": "markdown",
   "metadata": {},
   "source": [
    "接下來，檢視哪個職缺沒有列出必要工作技能(requirements)?"
   ]
  },
  {
   "cell_type": "code",
   "execution_count": 6,
   "metadata": {
    "scrolled": true
   },
   "outputs": [
    {
     "data": {
      "text/html": [
       "<div>\n",
       "<style scoped>\n",
       "    .dataframe tbody tr th:only-of-type {\n",
       "        vertical-align: middle;\n",
       "    }\n",
       "\n",
       "    .dataframe tbody tr th {\n",
       "        vertical-align: top;\n",
       "    }\n",
       "\n",
       "    .dataframe thead th {\n",
       "        text-align: right;\n",
       "    }\n",
       "</style>\n",
       "<table border=\"1\" class=\"dataframe\">\n",
       "  <thead>\n",
       "    <tr style=\"text-align: right;\">\n",
       "      <th></th>\n",
       "      <th>company</th>\n",
       "      <th>title</th>\n",
       "      <th>salary_floor</th>\n",
       "      <th>salary_ceiling</th>\n",
       "      <th>location</th>\n",
       "      <th>experience</th>\n",
       "      <th>education</th>\n",
       "      <th>major</th>\n",
       "      <th>language</th>\n",
       "      <th>requirements</th>\n",
       "      <th>extra</th>\n",
       "    </tr>\n",
       "  </thead>\n",
       "  <tbody>\n",
       "    <tr>\n",
       "      <th>38</th>\n",
       "      <td>科萊博瑞科技有限公司</td>\n",
       "      <td>數據分析師</td>\n",
       "      <td>40000</td>\n",
       "      <td>62086.956522</td>\n",
       "      <td>Taipei</td>\n",
       "      <td>2+</td>\n",
       "      <td>associate</td>\n",
       "      <td>not specified</td>\n",
       "      <td>not specified</td>\n",
       "      <td>NaN</td>\n",
       "      <td>NaN</td>\n",
       "    </tr>\n",
       "  </tbody>\n",
       "</table>\n",
       "</div>"
      ],
      "text/plain": [
       "       company  title  salary_floor  salary_ceiling location experience  \\\n",
       "38  科萊博瑞科技有限公司  數據分析師         40000    62086.956522   Taipei         2+   \n",
       "\n",
       "    education          major       language requirements extra  \n",
       "38  associate  not specified  not specified          NaN   NaN  "
      ]
     },
     "execution_count": 6,
     "metadata": {},
     "output_type": "execute_result"
    }
   ],
   "source": [
    "job[job['requirements'].isnull()]"
   ]
  },
  {
   "cell_type": "markdown",
   "metadata": {},
   "source": [
    "經過查證後，發現該職缺真的沒有明確標示工作技能，因此保持原樣；我們在額外工作技能(extra)欄位也發現類似情形，一樣保持原樣<br>"
   ]
  },
  {
   "cell_type": "markdown",
   "metadata": {},
   "source": [
    "確認資料集的正確性後，開始進行探索"
   ]
  },
  {
   "cell_type": "code",
   "execution_count": 7,
   "metadata": {},
   "outputs": [
    {
     "data": {
      "text/html": [
       "<div>\n",
       "<style scoped>\n",
       "    .dataframe tbody tr th:only-of-type {\n",
       "        vertical-align: middle;\n",
       "    }\n",
       "\n",
       "    .dataframe tbody tr th {\n",
       "        vertical-align: top;\n",
       "    }\n",
       "\n",
       "    .dataframe thead th {\n",
       "        text-align: right;\n",
       "    }\n",
       "</style>\n",
       "<table border=\"1\" class=\"dataframe\">\n",
       "  <thead>\n",
       "    <tr style=\"text-align: right;\">\n",
       "      <th></th>\n",
       "      <th>company</th>\n",
       "      <th>title</th>\n",
       "      <th>salary_floor</th>\n",
       "      <th>salary_ceiling</th>\n",
       "      <th>location</th>\n",
       "      <th>experience</th>\n",
       "      <th>education</th>\n",
       "      <th>major</th>\n",
       "      <th>language</th>\n",
       "      <th>requirements</th>\n",
       "      <th>extra</th>\n",
       "    </tr>\n",
       "  </thead>\n",
       "  <tbody>\n",
       "    <tr>\n",
       "      <th>count</th>\n",
       "      <td>50</td>\n",
       "      <td>50</td>\n",
       "      <td>50.000000</td>\n",
       "      <td>50.000000</td>\n",
       "      <td>50</td>\n",
       "      <td>50</td>\n",
       "      <td>50</td>\n",
       "      <td>50</td>\n",
       "      <td>50</td>\n",
       "      <td>49</td>\n",
       "      <td>25</td>\n",
       "    </tr>\n",
       "    <tr>\n",
       "      <th>unique</th>\n",
       "      <td>50</td>\n",
       "      <td>13</td>\n",
       "      <td>NaN</td>\n",
       "      <td>NaN</td>\n",
       "      <td>10</td>\n",
       "      <td>6</td>\n",
       "      <td>6</td>\n",
       "      <td>22</td>\n",
       "      <td>3</td>\n",
       "      <td>42</td>\n",
       "      <td>25</td>\n",
       "    </tr>\n",
       "    <tr>\n",
       "      <th>top</th>\n",
       "      <td>舉手電商有限公司</td>\n",
       "      <td>數據分析師</td>\n",
       "      <td>NaN</td>\n",
       "      <td>NaN</td>\n",
       "      <td>Taipei</td>\n",
       "      <td>not specified</td>\n",
       "      <td>bachelor</td>\n",
       "      <td>not specified</td>\n",
       "      <td>not specified</td>\n",
       "      <td>Excel|PPT|Word</td>\n",
       "      <td>DM|DB|Visualization</td>\n",
       "    </tr>\n",
       "    <tr>\n",
       "      <th>freq</th>\n",
       "      <td>1</td>\n",
       "      <td>25</td>\n",
       "      <td>NaN</td>\n",
       "      <td>NaN</td>\n",
       "      <td>31</td>\n",
       "      <td>20</td>\n",
       "      <td>25</td>\n",
       "      <td>16</td>\n",
       "      <td>32</td>\n",
       "      <td>4</td>\n",
       "      <td>1</td>\n",
       "    </tr>\n",
       "    <tr>\n",
       "      <th>mean</th>\n",
       "      <td>NaN</td>\n",
       "      <td>NaN</td>\n",
       "      <td>38442.000000</td>\n",
       "      <td>62086.956522</td>\n",
       "      <td>NaN</td>\n",
       "      <td>NaN</td>\n",
       "      <td>NaN</td>\n",
       "      <td>NaN</td>\n",
       "      <td>NaN</td>\n",
       "      <td>NaN</td>\n",
       "      <td>NaN</td>\n",
       "    </tr>\n",
       "    <tr>\n",
       "      <th>std</th>\n",
       "      <td>NaN</td>\n",
       "      <td>NaN</td>\n",
       "      <td>7181.668557</td>\n",
       "      <td>10728.396505</td>\n",
       "      <td>NaN</td>\n",
       "      <td>NaN</td>\n",
       "      <td>NaN</td>\n",
       "      <td>NaN</td>\n",
       "      <td>NaN</td>\n",
       "      <td>NaN</td>\n",
       "      <td>NaN</td>\n",
       "    </tr>\n",
       "    <tr>\n",
       "      <th>min</th>\n",
       "      <td>NaN</td>\n",
       "      <td>NaN</td>\n",
       "      <td>23100.000000</td>\n",
       "      <td>30000.000000</td>\n",
       "      <td>NaN</td>\n",
       "      <td>NaN</td>\n",
       "      <td>NaN</td>\n",
       "      <td>NaN</td>\n",
       "      <td>NaN</td>\n",
       "      <td>NaN</td>\n",
       "      <td>NaN</td>\n",
       "    </tr>\n",
       "    <tr>\n",
       "      <th>25%</th>\n",
       "      <td>NaN</td>\n",
       "      <td>NaN</td>\n",
       "      <td>35000.000000</td>\n",
       "      <td>62021.739130</td>\n",
       "      <td>NaN</td>\n",
       "      <td>NaN</td>\n",
       "      <td>NaN</td>\n",
       "      <td>NaN</td>\n",
       "      <td>NaN</td>\n",
       "      <td>NaN</td>\n",
       "      <td>NaN</td>\n",
       "    </tr>\n",
       "    <tr>\n",
       "      <th>50%</th>\n",
       "      <td>NaN</td>\n",
       "      <td>NaN</td>\n",
       "      <td>40000.000000</td>\n",
       "      <td>62086.956522</td>\n",
       "      <td>NaN</td>\n",
       "      <td>NaN</td>\n",
       "      <td>NaN</td>\n",
       "      <td>NaN</td>\n",
       "      <td>NaN</td>\n",
       "      <td>NaN</td>\n",
       "      <td>NaN</td>\n",
       "    </tr>\n",
       "    <tr>\n",
       "      <th>75%</th>\n",
       "      <td>NaN</td>\n",
       "      <td>NaN</td>\n",
       "      <td>40000.000000</td>\n",
       "      <td>62086.956522</td>\n",
       "      <td>NaN</td>\n",
       "      <td>NaN</td>\n",
       "      <td>NaN</td>\n",
       "      <td>NaN</td>\n",
       "      <td>NaN</td>\n",
       "      <td>NaN</td>\n",
       "      <td>NaN</td>\n",
       "    </tr>\n",
       "    <tr>\n",
       "      <th>max</th>\n",
       "      <td>NaN</td>\n",
       "      <td>NaN</td>\n",
       "      <td>60000.000000</td>\n",
       "      <td>90000.000000</td>\n",
       "      <td>NaN</td>\n",
       "      <td>NaN</td>\n",
       "      <td>NaN</td>\n",
       "      <td>NaN</td>\n",
       "      <td>NaN</td>\n",
       "      <td>NaN</td>\n",
       "      <td>NaN</td>\n",
       "    </tr>\n",
       "  </tbody>\n",
       "</table>\n",
       "</div>"
      ],
      "text/plain": [
       "         company  title  salary_floor  salary_ceiling location     experience  \\\n",
       "count         50     50     50.000000       50.000000       50             50   \n",
       "unique        50     13           NaN             NaN       10              6   \n",
       "top     舉手電商有限公司  數據分析師           NaN             NaN   Taipei  not specified   \n",
       "freq           1     25           NaN             NaN       31             20   \n",
       "mean         NaN    NaN  38442.000000    62086.956522      NaN            NaN   \n",
       "std          NaN    NaN   7181.668557    10728.396505      NaN            NaN   \n",
       "min          NaN    NaN  23100.000000    30000.000000      NaN            NaN   \n",
       "25%          NaN    NaN  35000.000000    62021.739130      NaN            NaN   \n",
       "50%          NaN    NaN  40000.000000    62086.956522      NaN            NaN   \n",
       "75%          NaN    NaN  40000.000000    62086.956522      NaN            NaN   \n",
       "max          NaN    NaN  60000.000000    90000.000000      NaN            NaN   \n",
       "\n",
       "       education          major       language    requirements  \\\n",
       "count         50             50             50              49   \n",
       "unique         6             22              3              42   \n",
       "top     bachelor  not specified  not specified  Excel|PPT|Word   \n",
       "freq          25             16             32               4   \n",
       "mean         NaN            NaN            NaN             NaN   \n",
       "std          NaN            NaN            NaN             NaN   \n",
       "min          NaN            NaN            NaN             NaN   \n",
       "25%          NaN            NaN            NaN             NaN   \n",
       "50%          NaN            NaN            NaN             NaN   \n",
       "75%          NaN            NaN            NaN             NaN   \n",
       "max          NaN            NaN            NaN             NaN   \n",
       "\n",
       "                      extra  \n",
       "count                    25  \n",
       "unique                   25  \n",
       "top     DM|DB|Visualization  \n",
       "freq                      1  \n",
       "mean                    NaN  \n",
       "std                     NaN  \n",
       "min                     NaN  \n",
       "25%                     NaN  \n",
       "50%                     NaN  \n",
       "75%                     NaN  \n",
       "max                     NaN  "
      ]
     },
     "execution_count": 7,
     "metadata": {},
     "output_type": "execute_result"
    }
   ],
   "source": [
    "#列出各欄位的統計值\n",
    "job.describe(include='all')"
   ]
  },
  {
   "cell_type": "markdown",
   "metadata": {},
   "source": [
    "由於多數的欄位不是數值型態(numeric)，所以不適用某些統計量。<br>\n",
    "從上表可以看到某些欄位的分布，例如：平均底薪是3,8442，平均薪資天花板是6,2087。<br>\n",
    "接下來會用Q&A的方式對每個欄位做進一步的檢視"
   ]
  },
  {
   "cell_type": "markdown",
   "metadata": {},
   "source": [
    "Question：最常見的職缺名稱是什麼?<br>\n",
    "Answer：不意外，當然是數據分析師。不過我們可以從名稱的不同，瞭解到各行各業都有提供相關職缺。"
   ]
  },
  {
   "cell_type": "code",
   "execution_count": 8,
   "metadata": {},
   "outputs": [
    {
     "data": {
      "text/plain": [
       "數據分析師           25\n",
       "Data Analyst     5\n",
       "大數據分析師           5\n",
       "資深數據分析師          5\n",
       "遊戲數據分析師          2\n",
       "資料數據分析師          1\n",
       "運營數據分析師          1\n",
       "風場數據分析師          1\n",
       "數據分析師助理          1\n",
       "商業數據分析師          1\n",
       "用戶行為數據分析師        1\n",
       "內容電商資料分析師        1\n",
       "數據專案分析師          1\n",
       "Name: title, dtype: int64"
      ]
     },
     "execution_count": 8,
     "metadata": {},
     "output_type": "execute_result"
    }
   ],
   "source": [
    "job['title'].value_counts().sort_values(ascending=False)"
   ]
  },
  {
   "cell_type": "markdown",
   "metadata": {},
   "source": [
    "Question：哪家公司提供最低/高底薪?薪水多少?<br>\n",
    "Answer：底薪最低：貓博士教育有限公司，23,100元；底薪最高：飛騰資訊科技有限公司，60,000元"
   ]
  },
  {
   "cell_type": "code",
   "execution_count": 9,
   "metadata": {},
   "outputs": [
    {
     "name": "stdout",
     "output_type": "stream",
     "text": [
      "底薪最低的公司是: 貓博士教育有限公司 底薪是： 23100\n",
      "底薪最高的公司是: 飛騰資訊科技有限公司 底薪是： 60000\n"
     ]
    }
   ],
   "source": [
    "min_salary_floor_job = job.loc[job['salary_floor'].idxmin(), 'company']\n",
    "max_salary_floor_job = job.loc[job['salary_floor'].idxmax(), 'company']\n",
    "\n",
    "min_salary_floor = job['salary_floor'].min()\n",
    "max_salary_floor = job['salary_floor'].max()\n",
    "\n",
    "print(\"底薪最低的公司是:\", min_salary_floor_job, \"底薪是：\", min_salary_floor)\n",
    "print(\"底薪最高的公司是:\", max_salary_floor_job, \"底薪是：\", max_salary_floor)"
   ]
  },
  {
   "cell_type": "markdown",
   "metadata": {},
   "source": [
    "Question：哪家公司提供最低/高薪資天花板?薪水多少?<br>\n",
    "Answer：薪資天花板最低：醫療財團法人羅許基金會羅東博愛醫院，30,000元；薪資天花板最高：國泰金融控股股份有限公司，90,000元"
   ]
  },
  {
   "cell_type": "code",
   "execution_count": 10,
   "metadata": {},
   "outputs": [
    {
     "name": "stdout",
     "output_type": "stream",
     "text": [
      "薪水天花板最低的公司是: 醫療財團法人羅許基金會羅東博愛醫院 天花板是： 30000.0\n",
      "薪水天花板最高的公司是: 國泰金融控股股份有限公司 天花板是： 90000.0\n"
     ]
    }
   ],
   "source": [
    "min_salary_ceiling_job = job.loc[job['salary_ceiling'].idxmin(), 'company']\n",
    "max_salary_ceiling_job = job.loc[job['salary_ceiling'].idxmax(), 'company']\n",
    "\n",
    "min_salary_ceiling = job['salary_ceiling'].min()\n",
    "max_salary_ceiling = job['salary_ceiling'].max()\n",
    "\n",
    "print(\"薪水天花板最低的公司是:\", min_salary_ceiling_job, \"天花板是：\", min_salary_ceiling)\n",
    "print(\"薪水天花板最高的公司是:\", max_salary_ceiling_job, \"天花板是：\", max_salary_ceiling)"
   ]
  },
  {
   "cell_type": "markdown",
   "metadata": {},
   "source": [
    "Question：哪家公司有最小/大的薪資級距?級距大小?<br>\n",
    "Answer：級距最小：醫療財團法人羅許基金會羅東博愛醫院，5,000元；級距最大：國泰金融控股股份有限公司，60,000元"
   ]
  },
  {
   "cell_type": "code",
   "execution_count": 11,
   "metadata": {},
   "outputs": [
    {
     "name": "stdout",
     "output_type": "stream",
     "text": [
      "薪水級距最小的公司是: 醫療財團法人羅許基金會羅東博愛醫院 級距是： 5000.0\n",
      "薪水級距最大的公司是: 國泰金融控股股份有限公司 級距是： 60000.0\n"
     ]
    }
   ],
   "source": [
    "job['salary_range'] = job['salary_ceiling'] - job['salary_floor']#新增salary_range(薪資級距)欄位\n",
    "\n",
    "min_salary_range_job = job.loc[job['salary_range'].idxmin(), 'company']\n",
    "max_salary_range_job = job.loc[job['salary_range'].idxmax(), 'company']\n",
    "\n",
    "min_salary_range = job['salary_range'].min()\n",
    "max_salary_range = job['salary_range'].max()\n",
    "\n",
    "print(\"薪水級距最小的公司是:\", min_salary_range_job, \"級距是：\", min_salary_range)\n",
    "print(\"薪水級距最大的公司是:\", max_salary_range_job, \"級距是：\", max_salary_range)"
   ]
  },
  {
   "cell_type": "code",
   "execution_count": 12,
   "metadata": {},
   "outputs": [
    {
     "data": {
      "text/plain": [
       "<matplotlib.axes._subplots.AxesSubplot at 0x1a4fae89e48>"
      ]
     },
     "execution_count": 12,
     "metadata": {},
     "output_type": "execute_result"
    },
    {
     "data": {
      "image/png": "[encoded data removed]",
      "text/plain": [
       "<Figure size 432x288 with 1 Axes>"
      ]
     },
     "metadata": {
      "needs_background": "light"
     },
     "output_type": "display_data"
    }
   ],
   "source": [
    "#用圖表進行檢視\n",
    "job.boxplot(column=['salary_floor', 'salary_ceiling'])"
   ]
  },
  {
   "cell_type": "markdown",
   "metadata": {},
   "source": [
    "從上圖可以看到數據分析師的底薪介於35K到40K左右，但是考慮到部份經常性薪資在4萬元以上的職缺，沒有明確列出待遇，因此我們有可能低估底薪；另外，由於缺少薪資天花板的詳細資料，所以暫用平均值代替，導致我們看到天花板的級距非常大<br>"
   ]
  },
  {
   "cell_type": "markdown",
   "metadata": {},
   "source": [
    "結論：「國泰金融控股」有最大的調薪幅度，對自己能力有自信的人，不妨挑戰看看！"
   ]
  },
  {
   "cell_type": "markdown",
   "metadata": {},
   "source": [
    "Question：哪個地區有最多數據分析職缺?<br>\n",
    "Answer：第一名是台北、第二名是新北、第三名是高雄。最特別的是，樣本中有2筆菲律賓的職缺"
   ]
  },
  {
   "cell_type": "code",
   "execution_count": 13,
   "metadata": {},
   "outputs": [
    {
     "data": {
      "text/plain": [
       "Taipei         31\n",
       "New Taipei      7\n",
       "Kaohsiung       3\n",
       "Philippines     2\n",
       "Taichung        2\n",
       "Hsinchu         1\n",
       "Taoyuan         1\n",
       "Miaoli          1\n",
       "Yilan           1\n",
       "Tainan          1\n",
       "Name: location, dtype: int64"
      ]
     },
     "execution_count": 13,
     "metadata": {},
     "output_type": "execute_result"
    }
   ],
   "source": [
    "#計算各地區出現次數\n",
    "job['location'].value_counts().sort_values(ascending=False)"
   ]
  },
  {
   "cell_type": "code",
   "execution_count": 14,
   "metadata": {
    "scrolled": true
   },
   "outputs": [
    {
     "data": {
      "text/plain": [
       "Taipei         0.62\n",
       "New Taipei     0.14\n",
       "Kaohsiung      0.06\n",
       "Philippines    0.04\n",
       "Taichung       0.04\n",
       "Hsinchu        0.02\n",
       "Taoyuan        0.02\n",
       "Miaoli         0.02\n",
       "Yilan          0.02\n",
       "Tainan         0.02\n",
       "Name: location, dtype: float64"
      ]
     },
     "execution_count": 14,
     "metadata": {},
     "output_type": "execute_result"
    }
   ],
   "source": [
    "#用比例進行檢視\n",
    "job['location'].value_counts(normalize=True).sort_values(ascending=False)"
   ]
  },
  {
   "cell_type": "markdown",
   "metadata": {},
   "source": [
    "從比例上來看，雙北就佔了樣本中76%的職缺<br>"
   ]
  },
  {
   "cell_type": "code",
   "execution_count": 15,
   "metadata": {},
   "outputs": [
    {
     "data": {
      "text/plain": [
       "<matplotlib.axes._subplots.AxesSubplot at 0x1a4fcf95080>"
      ]
     },
     "execution_count": 15,
     "metadata": {},
     "output_type": "execute_result"
    },
    {
     "data": {
      "image/png": "[encoded data removed]",
      "text/plain": [
       "<Figure size 432x288 with 1 Axes>"
      ]
     },
     "metadata": {
      "needs_background": "light"
     },
     "output_type": "display_data"
    }
   ],
   "source": [
    "#用圖表進行檢視\n",
    "job['location'].value_counts(normalize=True).sort_values(ascending=True).plot.bar()"
   ]
  },
  {
   "cell_type": "markdown",
   "metadata": {},
   "source": [
    "結論：想要找數據分析相關工作的話，住在雙北可說是近水樓臺！"
   ]
  },
  {
   "cell_type": "markdown",
   "metadata": {},
   "source": [
    "Question：數據分析師需要有幾年工作經驗?<br>\n",
    "Answer：多數的職缺沒有明訂經驗要求，不過經驗是多多益善！"
   ]
  },
  {
   "cell_type": "code",
   "execution_count": 16,
   "metadata": {},
   "outputs": [
    {
     "data": {
      "text/plain": [
       "not specified    20\n",
       "3+               10\n",
       "1+                8\n",
       "2+                6\n",
       "5+                5\n",
       "4+                1\n",
       "Name: experience, dtype: int64"
      ]
     },
     "execution_count": 16,
     "metadata": {},
     "output_type": "execute_result"
    }
   ],
   "source": [
    "#統計工作經驗\n",
    "job['experience'].value_counts().sort_values(ascending=False)"
   ]
  },
  {
   "cell_type": "code",
   "execution_count": 17,
   "metadata": {},
   "outputs": [
    {
     "data": {
      "text/plain": [
       "1+                8\n",
       "2+                6\n",
       "3+               10\n",
       "4+                1\n",
       "5+                5\n",
       "not specified    20\n",
       "Name: experience, dtype: int64"
      ]
     },
     "execution_count": 17,
     "metadata": {},
     "output_type": "execute_result"
    }
   ],
   "source": [
    "#按照年資排序\n",
    "job['experience'].value_counts().sort_index()"
   ]
  },
  {
   "cell_type": "code",
   "execution_count": 18,
   "metadata": {},
   "outputs": [
    {
     "data": {
      "text/plain": [
       "1+               0.16\n",
       "2+               0.12\n",
       "3+               0.20\n",
       "4+               0.02\n",
       "5+               0.10\n",
       "not specified    0.40\n",
       "Name: experience, dtype: float64"
      ]
     },
     "execution_count": 18,
     "metadata": {},
     "output_type": "execute_result"
    }
   ],
   "source": [
    "#用比例進行檢視\n",
    "job['experience'].value_counts(normalize=True).sort_index()"
   ]
  },
  {
   "cell_type": "code",
   "execution_count": 19,
   "metadata": {},
   "outputs": [
    {
     "data": {
      "text/plain": [
       "<matplotlib.axes._subplots.AxesSubplot at 0x1a4fd016eb8>"
      ]
     },
     "execution_count": 19,
     "metadata": {},
     "output_type": "execute_result"
    },
    {
     "data": {
      "image/png": "[encoded data removed]",
      "text/plain": [
       "<Figure size 432x288 with 1 Axes>"
      ]
     },
     "metadata": {
      "needs_background": "light"
     },
     "output_type": "display_data"
    }
   ],
   "source": [
    "#用圖表進行檢視\n",
    "job['experience'].value_counts(normalize=True).sort_index().plot.bar()"
   ]
  },
  {
   "cell_type": "markdown",
   "metadata": {},
   "source": [
    "結論：就算沒有工作經驗，也不用感到緊張，畢竟多數職缺「似乎」不要求工作經驗"
   ]
  },
  {
   "cell_type": "markdown",
   "metadata": {},
   "source": [
    "Question：數據分析師有學歷要求嗎?<br>\n",
    "Answer：有，多數職缺要求大學畢業"
   ]
  },
  {
   "cell_type": "code",
   "execution_count": 20,
   "metadata": {},
   "outputs": [
    {
     "data": {
      "text/plain": [
       "bachelor                     25\n",
       "master                        8\n",
       "bachelor|master               7\n",
       "associate|bachelor|master     4\n",
       "associate                     4\n",
       "not specified                 2\n",
       "Name: education, dtype: int64"
      ]
     },
     "execution_count": 20,
     "metadata": {},
     "output_type": "execute_result"
    }
   ],
   "source": [
    "#用\"|\"分隔代表該職缺開放多種學歷應徵，由於我們只考慮應徵資格，因此應該用最低學歷進行檢視\n",
    "job['education'].value_counts().sort_values(ascending=False)"
   ]
  },
  {
   "cell_type": "code",
   "execution_count": 21,
   "metadata": {},
   "outputs": [
    {
     "name": "stdout",
     "output_type": "stream",
     "text": [
      "最低學歷要求: \n",
      "bachelor         32\n",
      "master            8\n",
      "associate         8\n",
      "not specified     2\n",
      "Name: lowest_degree_level, dtype: int64\n"
     ]
    }
   ],
   "source": [
    "#新增最低學歷要求欄位\n",
    "job['lowest_degree_level'] = job['education'].str.split(\"|\").str[0]\n",
    "\n",
    "#檢視最低學歷要求\n",
    "print(\"最低學歷要求: \", job['lowest_degree_level'].value_counts().sort_values(ascending=False), sep=\"\\n\")"
   ]
  },
  {
   "cell_type": "code",
   "execution_count": 22,
   "metadata": {},
   "outputs": [
    {
     "name": "stdout",
     "output_type": "stream",
     "text": [
      "最低學歷要求: \n",
      "bachelor         0.64\n",
      "master           0.16\n",
      "associate        0.16\n",
      "not specified    0.04\n",
      "Name: lowest_degree_level, dtype: float64\n"
     ]
    }
   ],
   "source": [
    "#用比例進行檢視\n",
    "print(\"最低學歷要求: \", job['lowest_degree_level'].value_counts(normalize=True).sort_values(ascending=False), sep=\"\\n\")"
   ]
  },
  {
   "cell_type": "code",
   "execution_count": 23,
   "metadata": {},
   "outputs": [
    {
     "data": {
      "text/plain": [
       "<matplotlib.axes._subplots.AxesSubplot at 0x1a4fd081c50>"
      ]
     },
     "execution_count": 23,
     "metadata": {},
     "output_type": "execute_result"
    },
    {
     "data": {
      "image/png": "[encoded data removed]",
      "text/plain": [
       "<Figure size 432x288 with 1 Axes>"
      ]
     },
     "metadata": {
      "needs_background": "light"
     },
     "output_type": "display_data"
    }
   ],
   "source": [
    "#用圖表進行檢視\n",
    "job['lowest_degree_level'].value_counts(normalize=True).sort_values().plot.bar()"
   ]
  },
  {
   "cell_type": "markdown",
   "metadata": {},
   "source": [
    "結論：多數職缺只要求大學學歷；意外的是，部份工作只要求專科學歷"
   ]
  },
  {
   "cell_type": "markdown",
   "metadata": {},
   "source": [
    "Question：數據分析師要求什麼科系的畢業生?<br>\n",
    "Answer：第一名：數學相關、第二名：電資相關、第三名：資訊相關"
   ]
  },
  {
   "cell_type": "code",
   "execution_count": 24,
   "metadata": {},
   "outputs": [
    {
     "data": {
      "text/plain": [
       "not specified                   16\n",
       "information|math                 6\n",
       "engineering|information|math     4\n",
       "engineering|businuess|math       3\n",
       "engineering|business|math        2\n",
       "Name: major, dtype: int64"
      ]
     },
     "execution_count": 24,
     "metadata": {},
     "output_type": "execute_result"
    }
   ],
   "source": [
    "#用\"|\"分隔代表該職缺開放給多種科系畢業生，我們想要瞭解，哪一個科系最常被提及\n",
    "job['major'].value_counts().sort_values(ascending=False)[:5]"
   ]
  },
  {
   "cell_type": "code",
   "execution_count": 25,
   "metadata": {},
   "outputs": [
    {
     "data": {
      "text/plain": [
       "{'business',\n",
       " 'businuess',\n",
       " 'economics',\n",
       " 'engineering',\n",
       " 'finance',\n",
       " 'health',\n",
       " 'infomation',\n",
       " 'information',\n",
       " 'math',\n",
       " 'not specified',\n",
       " 'statistics'}"
      ]
     },
     "execution_count": 25,
     "metadata": {},
     "output_type": "execute_result"
    }
   ],
   "source": [
    "#首先列出所有科系\n",
    "list_of_major = []\n",
    "for major_complex in job['major'].tolist():\n",
    "    for major in major_complex.split(\"|\"):\n",
    "        list_of_major.append(major)\n",
    "        \n",
    "#列出所有不重複科系，檢查資料正確性\n",
    "unique_major = set(list_of_major);unique_major"
   ]
  },
  {
   "cell_type": "code",
   "execution_count": 26,
   "metadata": {},
   "outputs": [],
   "source": [
    "#我們發現資料有誤植(businuess、infomation)，因此進行調整\n",
    "job['major'] = job['major'].str.replace('infomation', 'information')\n",
    "job['major'] = job['major'].str.replace('businuess', 'business')"
   ]
  },
  {
   "cell_type": "code",
   "execution_count": 27,
   "metadata": {},
   "outputs": [
    {
     "data": {
      "text/plain": [
       "{'business',\n",
       " 'economics',\n",
       " 'engineering',\n",
       " 'finance',\n",
       " 'health',\n",
       " 'information',\n",
       " 'math',\n",
       " 'not specified',\n",
       " 'statistics'}"
      ]
     },
     "execution_count": 27,
     "metadata": {},
     "output_type": "execute_result"
    }
   ],
   "source": [
    "#重新列出所有不重複科系，檢查資料正確性\n",
    "list_of_major = []\n",
    "for major_complex in job['major'].tolist():\n",
    "    for major in major_complex.split(\"|\"):\n",
    "        list_of_major.append(major)\n",
    "unique_major = set(list_of_major);unique_major"
   ]
  },
  {
   "cell_type": "code",
   "execution_count": 28,
   "metadata": {},
   "outputs": [
    {
     "data": {
      "text/plain": [
       "[('math', 27), ('engineering', 17), ('information', 17)]"
      ]
     },
     "execution_count": 28,
     "metadata": {},
     "output_type": "execute_result"
    }
   ],
   "source": [
    "#計算科系的出現頻率\n",
    "from collections import Counter\n",
    "major_counter = Counter(list_of_major)\n",
    "#計算前三名最常出現的科系\n",
    "major_counter.most_common(3)"
   ]
  },
  {
   "cell_type": "code",
   "execution_count": 29,
   "metadata": {},
   "outputs": [
    {
     "data": {
      "text/plain": [
       "([0, 1, 2, 3, 4, 5, 6, 7, 8], <a list of 9 Text xticklabel objects>)"
      ]
     },
     "execution_count": 29,
     "metadata": {},
     "output_type": "execute_result"
    },
    {
     "data": {
      "image/png": "[encoded data removed]",
      "text/plain": [
       "<Figure size 432x288 with 1 Axes>"
      ]
     },
     "metadata": {
      "needs_background": "light"
     },
     "output_type": "display_data"
    }
   ],
   "source": [
    "#用圖表進行檢視\n",
    "plt.bar(major_counter.keys(), major_counter.values())\n",
    "plt.xticks(rotation=90)"
   ]
  },
  {
   "cell_type": "markdown",
   "metadata": {},
   "source": [
    "結論：<br>\n",
    "(1)先前提到，數據分析會使用統計方法進行研究，因此數學(統計)相關科系畢業生會吃香，並不意外<br>\n",
    "(2)由於分析過程中會撰寫程式(如同本文)，因此要求有電資、資訊相關背景也頗合理<br>\n",
    "(3)不是上述科系畢業的也不用太擔心，因為也有不少職缺不要求科系，其實商學背景(business)也算是大宗喔！"
   ]
  },
  {
   "cell_type": "markdown",
   "metadata": {},
   "source": [
    "Question：數據分析師是否有語言要求?<br>\n",
    "Answer：擁有英文能力會是一個加分<br>"
   ]
  },
  {
   "cell_type": "code",
   "execution_count": 30,
   "metadata": {},
   "outputs": [
    {
     "data": {
      "text/plain": [
       "not specified        32\n",
       "English              17\n",
       "English|Taiwanese     1\n",
       "Name: language, dtype: int64"
      ]
     },
     "execution_count": 30,
     "metadata": {},
     "output_type": "execute_result"
    }
   ],
   "source": [
    "#用\"|\"分隔代表該職缺要求多種語言。事實上，只有一筆資料要求2種以上語言\n",
    "job['language'].value_counts().sort_values(ascending=False)"
   ]
  },
  {
   "cell_type": "code",
   "execution_count": 31,
   "metadata": {},
   "outputs": [
    {
     "name": "stdout",
     "output_type": "stream",
     "text": [
      "要求英文能力的職缺比例： 0.36\n"
     ]
    }
   ],
   "source": [
    "#計算有多少比例的公司有要求英文\n",
    "print('要求英文能力的職缺比例：', job[job['language'].str.contains('English')].shape[0]/job.shape[0])"
   ]
  },
  {
   "cell_type": "markdown",
   "metadata": {},
   "source": [
    "結論：其實多數職缺並沒有特別要求語文能力，不過保險起見，最好把英文練好！<br>"
   ]
  },
  {
   "cell_type": "markdown",
   "metadata": {},
   "source": [
    "Question：數據分析師要求具備什麼工作技能?<br>\n",
    "Answer：第一名：Python、第二名：R、第三名：SQL"
   ]
  },
  {
   "cell_type": "code",
   "execution_count": 32,
   "metadata": {},
   "outputs": [
    {
     "data": {
      "text/plain": [
       "0                    R|Tableau\n",
       "1    R|Python|ML|Visualization\n",
       "2            SQL|Visualization\n",
       "3               Excel|PPT|Word\n",
       "4    Python|R|SQL|Visulization\n",
       "5      Python|Visualization|DM\n",
       "6             Python|R|SQL|SAS\n",
       "7          Java|Python|R|ML|WC\n",
       "8             Python|SQL|Toeic\n",
       "9            SAS|SPSS|Python|R\n",
       "Name: requirements, dtype: object"
      ]
     },
     "execution_count": 32,
     "metadata": {},
     "output_type": "execute_result"
    }
   ],
   "source": [
    "#用\"|\"分隔代表該職缺要求多種工作技能，我們想要瞭解，哪幾個技能最常被提及\n",
    "job['requirements'][:10]"
   ]
  },
  {
   "cell_type": "code",
   "execution_count": 33,
   "metadata": {},
   "outputs": [
    {
     "data": {
      "text/plain": [
       "{'Anaconda',\n",
       " 'BI',\n",
       " 'Bokeh',\n",
       " 'C',\n",
       " 'C#',\n",
       " 'C++',\n",
       " 'DB',\n",
       " 'DM',\n",
       " 'ETL',\n",
       " 'Excel',\n",
       " 'FA',\n",
       " 'GA',\n",
       " 'Hadoop',\n",
       " 'Hive',\n",
       " 'Hyperion',\n",
       " 'Informatica',\n",
       " 'JAVA',\n",
       " 'Java',\n",
       " 'JupyterNotebook',\n",
       " 'Linux',\n",
       " 'MATLAB',\n",
       " 'ML',\n",
       " 'Mapreduce',\n",
       " 'Matlab',\n",
       " 'Matplotlib',\n",
       " 'Outlook',\n",
       " 'PPT',\n",
       " 'Pentaho',\n",
       " 'Platfora',\n",
       " 'PowerBI',\n",
       " 'Python',\n",
       " 'Qlickview',\n",
       " 'Qlik',\n",
       " 'QlikSense',\n",
       " 'Qlikview',\n",
       " 'Quicksight',\n",
       " 'R',\n",
       " 'SAS',\n",
       " 'SPSS',\n",
       " 'SQL',\n",
       " 'Scala',\n",
       " 'Shell',\n",
       " 'Spark',\n",
       " 'Tableau',\n",
       " 'Toeic',\n",
       " 'VB',\n",
       " 'Visualization',\n",
       " 'Visulization',\n",
       " 'WC',\n",
       " 'Word'}"
      ]
     },
     "execution_count": 33,
     "metadata": {},
     "output_type": "execute_result"
    }
   ],
   "source": [
    "#列出所有技能\n",
    "list_of_requirements = []\n",
    "for requirements_complex in job[job['requirements'].notnull()]['requirements'].tolist():\n",
    "    for requirement in requirements_complex.split(\"|\"):\n",
    "        list_of_requirements.append(requirement)\n",
    "\n",
    "#列出所有不重複技能，檢查資料正確性\n",
    "unique_requirement = set(list_of_requirements);unique_requirement"
   ]
  },
  {
   "cell_type": "code",
   "execution_count": 34,
   "metadata": {},
   "outputs": [],
   "source": [
    "#我們發現資料有誤植(Qlickview、Visulization)或格式不一(Qlikview、JAVA)，因此進行調整\n",
    "job['requirements'] = job['requirements'].str.replace('Qlickview', 'QlikView')\n",
    "job['requirements'] = job['requirements'].str.replace('Qlikview', 'QlikView')\n",
    "job['requirements'] = job['requirements'].str.replace('Visulization', 'Visualization')\n",
    "job['requirements'] = job['requirements'].str.replace('JAVA', 'Java')"
   ]
  },
  {
   "cell_type": "code",
   "execution_count": 35,
   "metadata": {},
   "outputs": [
    {
     "data": {
      "text/plain": [
       "{'Anaconda',\n",
       " 'BI',\n",
       " 'Bokeh',\n",
       " 'C',\n",
       " 'C#',\n",
       " 'C++',\n",
       " 'DB',\n",
       " 'DM',\n",
       " 'ETL',\n",
       " 'Excel',\n",
       " 'FA',\n",
       " 'GA',\n",
       " 'Hadoop',\n",
       " 'Hive',\n",
       " 'Hyperion',\n",
       " 'Informatica',\n",
       " 'Java',\n",
       " 'JupyterNotebook',\n",
       " 'Linux',\n",
       " 'MATLAB',\n",
       " 'ML',\n",
       " 'Mapreduce',\n",
       " 'Matlab',\n",
       " 'Matplotlib',\n",
       " 'Outlook',\n",
       " 'PPT',\n",
       " 'Pentaho',\n",
       " 'Platfora',\n",
       " 'PowerBI',\n",
       " 'Python',\n",
       " 'Qlik',\n",
       " 'QlikSense',\n",
       " 'QlikView',\n",
       " 'Quicksight',\n",
       " 'R',\n",
       " 'SAS',\n",
       " 'SPSS',\n",
       " 'SQL',\n",
       " 'Scala',\n",
       " 'Shell',\n",
       " 'Spark',\n",
       " 'Tableau',\n",
       " 'Toeic',\n",
       " 'VB',\n",
       " 'Visualization',\n",
       " 'WC',\n",
       " 'Word'}"
      ]
     },
     "execution_count": 35,
     "metadata": {},
     "output_type": "execute_result"
    }
   ],
   "source": [
    "#重複列出所有不重複技能，檢查資料正確性\n",
    "list_of_requirements = []\n",
    "for requirements_complex in job[job['requirements'].notnull()]['requirements'].tolist():\n",
    "    for requirement in requirements_complex.split(\"|\"):\n",
    "        list_of_requirements.append(requirement)\n",
    "unique_requirement = set(list_of_requirements);unique_requirement"
   ]
  },
  {
   "cell_type": "code",
   "execution_count": 36,
   "metadata": {},
   "outputs": [
    {
     "data": {
      "text/plain": [
       "[('Python', 26),\n",
       " ('R', 23),\n",
       " ('SQL', 20),\n",
       " ('Excel', 14),\n",
       " ('Tableau', 10),\n",
       " ('Visualization', 10),\n",
       " ('PPT', 10),\n",
       " ('Word', 7),\n",
       " ('ML', 6),\n",
       " ('Java', 5)]"
      ]
     },
     "execution_count": 36,
     "metadata": {},
     "output_type": "execute_result"
    }
   ],
   "source": [
    "#計算技能的出現頻率\n",
    "requirement_counter = Counter(list_of_requirements)\n",
    "#計算前10個最常出現的技能\n",
    "requirement_counter.most_common(10)"
   ]
  },
  {
   "cell_type": "code",
   "execution_count": 37,
   "metadata": {},
   "outputs": [
    {
     "data": {
      "text/plain": [
       "([0, 1, 2, 3, 4, 5, 6, 7, 8, 9], <a list of 10 Text xticklabel objects>)"
      ]
     },
     "execution_count": 37,
     "metadata": {},
     "output_type": "execute_result"
    },
    {
     "data": {
      "image/png": "[encoded data removed]",
      "text/plain": [
       "<Figure size 432x288 with 1 Axes>"
      ]
     },
     "metadata": {
      "needs_background": "light"
     },
     "output_type": "display_data"
    }
   ],
   "source": [
    "#用圖表進行檢視\n",
    "top_ten = dict(requirement_counter.most_common(10))\n",
    "plt.bar(top_ten.keys(), top_ten.values())\n",
    "plt.xticks(rotation=90)"
   ]
  },
  {
   "cell_type": "markdown",
   "metadata": {},
   "source": [
    "結論：<br>\n",
    "1. Python、R、SQL可以是最常被提及的工作技能。一般來說，Python和R擇一精通即可，不過SQL基本上是必須學會的，也最容易上手的！<br>\n",
    "2. 作者對於Excel位居第四名感到意外，不過Excel的圖形化介面的確很適合處理小型資料集<br>\n",
    "3. 第五、六名分別是Tableau(視覺化軟體)和Visualization(資料視覺化)，不妨把兩者視為一體。身為數據分析師，擅用圖形和他人溝通是很重要的！"
   ]
  },
  {
   "cell_type": "markdown",
   "metadata": {},
   "source": [
    "Question：假如我們算進額外技能(extra)，究竟數據分析師要求具備什麼工作技能?<br>\n",
    "Answer：第一名：R、第二名：Python、第三名：SQL"
   ]
  },
  {
   "cell_type": "code",
   "execution_count": 38,
   "metadata": {},
   "outputs": [
    {
     "data": {
      "text/plain": [
       "{'AWS',\n",
       " 'Anaconda',\n",
       " 'Azure',\n",
       " 'BI',\n",
       " 'Bokah',\n",
       " 'Bokeh',\n",
       " 'C',\n",
       " 'C#',\n",
       " 'C++',\n",
       " 'CRM',\n",
       " 'Caffee',\n",
       " 'Cron',\n",
       " 'D3',\n",
       " 'DB',\n",
       " 'DL',\n",
       " 'DM',\n",
       " 'ETL',\n",
       " 'Excel',\n",
       " 'FA',\n",
       " 'GA',\n",
       " 'GCP',\n",
       " 'GDS',\n",
       " 'GS',\n",
       " 'Git',\n",
       " 'Hadoop',\n",
       " 'Hive',\n",
       " 'Hyperion',\n",
       " 'IOT',\n",
       " 'Informatica',\n",
       " 'JS',\n",
       " 'Java',\n",
       " 'JupyterNotebook',\n",
       " 'Keras',\n",
       " 'Linux',\n",
       " 'MATLAB',\n",
       " 'ML',\n",
       " 'Mapreduce',\n",
       " 'Matlab',\n",
       " 'Matplotlib',\n",
       " 'Outlook',\n",
       " 'PHP',\n",
       " 'PPT',\n",
       " 'Pentaho',\n",
       " 'Platfora',\n",
       " 'PowerBI',\n",
       " 'PyTorch',\n",
       " 'Python',\n",
       " 'Pytorch',\n",
       " 'Qlik',\n",
       " 'QlikSense',\n",
       " 'QlikView',\n",
       " 'Quicksight',\n",
       " 'R',\n",
       " 'REST',\n",
       " 'SAS',\n",
       " 'SPSS',\n",
       " 'SQL',\n",
       " 'SaaS',\n",
       " 'Scala',\n",
       " 'Shell',\n",
       " 'Spark',\n",
       " 'Statistics',\n",
       " 'TM',\n",
       " 'Tableau',\n",
       " 'Tensorflow',\n",
       " 'Text Mining',\n",
       " 'Toeic',\n",
       " 'VB',\n",
       " 'Visualization',\n",
       " 'WC',\n",
       " 'Web',\n",
       " 'Word'}"
      ]
     },
     "execution_count": 38,
     "metadata": {},
     "output_type": "execute_result"
    }
   ],
   "source": [
    "#首先，將requirements和extra欄位合併在一起，然後再列出所有不重複技能，檢查資料正確性\n",
    "requirements = job[job['requirements'].notnull()]['requirements'].tolist()\n",
    "extra = job[job['extra'].notnull()]['extra'].tolist()\n",
    "\n",
    "requirements_and_extra_list = requirements + extra\n",
    "\n",
    "list_of_requirements_extra = []\n",
    "for requirement_extra_complex in requirements_and_extra_list:\n",
    "    for requirement_extra in requirement_extra_complex.split(\"|\"):\n",
    "        list_of_requirements_extra.append(requirement_extra)\n",
    "unique_requirement_extra = set(list_of_requirements_extra);unique_requirement_extra"
   ]
  },
  {
   "cell_type": "code",
   "execution_count": 39,
   "metadata": {},
   "outputs": [],
   "source": [
    "#我們發現資料有誤植(Bokah)或格式不一(Pytorch)，因此進行調整\n",
    "job['extra'] = job['extra'].str.replace('Bokah', 'Bokeh')\n",
    "job['extra'] = job['extra'].str.replace('Pytorch', 'PyTorch')"
   ]
  },
  {
   "cell_type": "code",
   "execution_count": 40,
   "metadata": {},
   "outputs": [
    {
     "data": {
      "text/plain": [
       "{'AWS',\n",
       " 'Anaconda',\n",
       " 'Azure',\n",
       " 'BI',\n",
       " 'Bokeh',\n",
       " 'C',\n",
       " 'C#',\n",
       " 'C++',\n",
       " 'CRM',\n",
       " 'Caffee',\n",
       " 'Cron',\n",
       " 'D3',\n",
       " 'DB',\n",
       " 'DL',\n",
       " 'DM',\n",
       " 'ETL',\n",
       " 'Excel',\n",
       " 'FA',\n",
       " 'GA',\n",
       " 'GCP',\n",
       " 'GDS',\n",
       " 'GS',\n",
       " 'Git',\n",
       " 'Hadoop',\n",
       " 'Hive',\n",
       " 'Hyperion',\n",
       " 'IOT',\n",
       " 'Informatica',\n",
       " 'JS',\n",
       " 'Java',\n",
       " 'JupyterNotebook',\n",
       " 'Keras',\n",
       " 'Linux',\n",
       " 'MATLAB',\n",
       " 'ML',\n",
       " 'Mapreduce',\n",
       " 'Matlab',\n",
       " 'Matplotlib',\n",
       " 'Outlook',\n",
       " 'PHP',\n",
       " 'PPT',\n",
       " 'Pentaho',\n",
       " 'Platfora',\n",
       " 'PowerBI',\n",
       " 'PyTorch',\n",
       " 'Python',\n",
       " 'Qlik',\n",
       " 'QlikSense',\n",
       " 'QlikView',\n",
       " 'Quicksight',\n",
       " 'R',\n",
       " 'REST',\n",
       " 'SAS',\n",
       " 'SPSS',\n",
       " 'SQL',\n",
       " 'SaaS',\n",
       " 'Scala',\n",
       " 'Shell',\n",
       " 'Spark',\n",
       " 'Statistics',\n",
       " 'TM',\n",
       " 'Tableau',\n",
       " 'Tensorflow',\n",
       " 'Text Mining',\n",
       " 'Toeic',\n",
       " 'VB',\n",
       " 'Visualization',\n",
       " 'WC',\n",
       " 'Web',\n",
       " 'Word'}"
      ]
     },
     "execution_count": 40,
     "metadata": {},
     "output_type": "execute_result"
    }
   ],
   "source": [
    "#重新列出所有不重複技能，檢查資料正確性\n",
    "requirements = job[job['requirements'].notnull()]['requirements'].tolist()\n",
    "extra = job[job['extra'].notnull()]['extra'].tolist()\n",
    "requirements_and_extra_list = requirements + extra\n",
    "\n",
    "list_of_requirements_extra = []\n",
    "for requirement_extra_complex in requirements_and_extra_list:\n",
    "    for requirement_extra in requirement_extra_complex.split(\"|\"):\n",
    "        list_of_requirements_extra.append(requirement_extra)\n",
    "unique_requirement_extra = set(list_of_requirements_extra);unique_requirement_extra"
   ]
  },
  {
   "cell_type": "code",
   "execution_count": 41,
   "metadata": {},
   "outputs": [
    {
     "data": {
      "text/plain": [
       "[('R', 30),\n",
       " ('Python', 28),\n",
       " ('SQL', 27),\n",
       " ('Tableau', 14),\n",
       " ('Excel', 14),\n",
       " ('ML', 11),\n",
       " ('Visualization', 11),\n",
       " ('PPT', 10),\n",
       " ('SPSS', 10),\n",
       " ('SAS', 8)]"
      ]
     },
     "execution_count": 41,
     "metadata": {},
     "output_type": "execute_result"
    }
   ],
   "source": [
    "#計算技能的出現頻率\n",
    "requirement_extra_counter = Counter(list_of_requirements_extra)\n",
    "#計算前10個最常出現的技能\n",
    "requirement_extra_counter.most_common(10)"
   ]
  },
  {
   "cell_type": "code",
   "execution_count": 42,
   "metadata": {},
   "outputs": [
    {
     "data": {
      "text/plain": [
       "([0, 1, 2, 3, 4, 5, 6, 7, 8, 9], <a list of 10 Text xticklabel objects>)"
      ]
     },
     "execution_count": 42,
     "metadata": {},
     "output_type": "execute_result"
    },
    {
     "data": {
      "image/png": "[encoded data removed]",
      "text/plain": [
       "<Figure size 432x288 with 1 Axes>"
      ]
     },
     "metadata": {
      "needs_background": "light"
     },
     "output_type": "display_data"
    }
   ],
   "source": [
    "#用圖表進行檢視\n",
    "top_ten_requirement_extra = dict(requirement_extra_counter.most_common(10))\n",
    "plt.bar(top_ten_requirement_extra.keys(), top_ten_requirement_extra.values())\n",
    "plt.xticks(rotation=90)"
   ]
  },
  {
   "cell_type": "code",
   "execution_count": 43,
   "metadata": {},
   "outputs": [
    {
     "data": {
      "text/plain": [
       "Text(0.5, 1.0, 'top_ten_requirements_and_extra')"
      ]
     },
     "execution_count": 43,
     "metadata": {},
     "output_type": "execute_result"
    },
    {
     "data": {
      "image/png": "[encoded data removed]",
      "text/plain": [
       "<Figure size 1440x576 with 2 Axes>"
      ]
     },
     "metadata": {
      "needs_background": "light"
     },
     "output_type": "display_data"
    }
   ],
   "source": [
    "#用圖表檢視最常被提及的10個必要技能，和最常被提及的必要/額外技能\n",
    "\n",
    "f, (ax1, ax2) = plt.subplots(1, 2, figsize = (20,8))\n",
    "ax1.bar(top_ten.keys(), top_ten.values())\n",
    "ax2.bar(top_ten_requirement_extra.keys(), top_ten_requirement_extra.values())\n",
    "\n",
    "ax1.set_title(\"top_ten_requirements\")\n",
    "ax2.set_title(\"top_ten_requirements_and_extra\")"
   ]
  },
  {
   "cell_type": "markdown",
   "metadata": {},
   "source": [
    "結論：<br>\n",
    "1. 儘管加計額外技能，Python、R、SQL的地位依舊沒變(只有順序不同)<br>\n",
    "2. Excel、Tableau和Visualization依然榜上有名<br>\n",
    "3. 機器學習(ML)的排名明顯進步，假如應徵者的條件相當的話，如果對於機器學習有多一點瞭解，或許就能脫穎而出吧！"
   ]
  },
  {
   "cell_type": "markdown",
   "metadata": {},
   "source": [
    "# 結尾"
   ]
  },
  {
   "cell_type": "markdown",
   "metadata": {},
   "source": [
    "幫各位回顧一下目前的發現：\n",
    "1. 多數職缺的經常性薪資在4萬元左右；薪資天花板估計在6萬元左右\n",
    "2. 多數職缺在台北(62%)\n",
    "3. 大部份職缺不要求相關工作經驗(40%)\n",
    "4. 多數職缺只要求大學學歷(64%)\n",
    "5. 多數職缺要求應徵者畢業於數學、電資和資訊相關科系\n",
    "6. 部份職缺要求英文能力(36%)\n",
    "7. 對於有志從事數據分析工作的人，最好開始學習Python、R和SQL；對於已經熟悉三者的人，可以考慮學習Tableau或是其他視覺化工具；還有，請不要忘記Excel"
   ]
  },
  {
   "cell_type": "markdown",
   "metadata": {},
   "source": [
    "其實這個資料集還能衍生出許多問題，例如：什麼樣的條件可得到較高的待遇?<br>\n",
    "但是考慮到我們只想知道如何成為一位數據分析師，所以沒有再深入挖掘<br>\n",
    "希望上述發現可以為各位帶來一些想法！也歡迎各位提供建議給作者，作者的信箱：chingchenlin.james@gmail.com<br>"
   ]
  }
 ],
 "metadata": {
  "kernelspec": {
   "display_name": "Python 3",
   "language": "python",
   "name": "python3"
  },
  "language_info": {
   "codemirror_mode": {
    "name": "ipython",
    "version": 3
   },
   "file_extension": ".py",
   "mimetype": "text/x-python",
   "name": "python",
   "nbconvert_exporter": "python",
   "pygments_lexer": "ipython3",
   "version": "3.7.1"
  }
 },
 "nbformat": 4,
 "nbformat_minor": 2
}
